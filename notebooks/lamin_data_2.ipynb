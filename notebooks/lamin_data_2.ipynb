{
 "cells": [
  {
   "cell_type": "markdown",
   "id": "abececa3",
   "metadata": {},
   "source": [
    "# Track data lineage"
   ]
  },
  {
   "cell_type": "code",
   "execution_count": 1,
   "id": "d24726db",
   "metadata": {},
   "outputs": [
    {
     "name": "stderr",
     "output_type": "stream",
     "text": [
      "🔶 \n",
      "\n",
      "Your database is not up to date with your installed schemas!\n",
      "\n",
      "It misses the following migrations:\n",
      "[<Migration lnschema_core.0001_initial>, <Migration lnschema_bionty.0001_initial>, <Migration lnschema_bionty.0002_rename_gene_type_gene_biotype_and_more>, <Migration lnschema_core.0002_alter_user_name>]\n",
      "\n",
      "If you are an admin and know what you're doing, deploy the migration:\n",
      "lamin migrate deploy\n",
      "\n",
      "Otherwise, please install previouses release of the above-mentioned schemas\n",
      "\n",
      "In case you haven't yet migrated to Django, please upgrade to lamindb 0.41.2 before deploying this migration - you'll need a manual step then, please reach out to Lamin\n",
      "\n",
      "✅ Loaded instance: lawrence-lamin/lamindb (lamindb 0.43.0)\n"
     ]
    }
   ],
   "source": [
    "import lamindb as ln"
   ]
  },
  {
   "cell_type": "code",
   "execution_count": 2,
   "id": "80e90245-667f-4e02-ac60-cc30987e00a9",
   "metadata": {},
   "outputs": [
    {
     "name": "stdout",
     "output_type": "stream",
     "text": [
      "Operations to perform:\n",
      "  Apply all migrations: lnschema_bionty, lnschema_core\n",
      "Running pre-migrate handlers for application lnschema_core\n",
      "Running pre-migrate handlers for application lnschema_bionty\n",
      "Running migrations:\n",
      "  Applying lnschema_core.0001_initial... OK (0.897s)\n",
      "  Applying lnschema_bionty.0001_initial... OK (1.887s)\n",
      "  Applying lnschema_bionty.0002_rename_gene_type_gene_biotype_and_more... OK (0.328s)\n",
      "  Applying lnschema_core.0002_alter_user_name... OK (0.022s)\n",
      "Running post-migrate handlers for application lnschema_core\n",
      "Running post-migrate handlers for application lnschema_bionty\n"
     ]
    }
   ],
   "source": [
    "!lamin migrate deploy"
   ]
  },
  {
   "cell_type": "code",
   "execution_count": 3,
   "id": "08383c6c",
   "metadata": {},
   "outputs": [
    {
     "name": "stderr",
     "output_type": "stream",
     "text": [
      "💬 Notebook imports: lamindb==0.43.0\n",
      "🔶 Automatic tracking of notebook failed: insert or update on table \"lnschema_core_transform\" violates foreign key constraint \"lnschema_core_transf_created_by_id_8afc7db3_fk_lnschema_\"\n",
      "DETAIL:  Key (created_by_id)=(325XQ1LU) is not present in table \"lnschema_core_user\".\n",
      "\n",
      "🔶 No automatic metadata detection, consider passing transform\n"
     ]
    }
   ],
   "source": [
    "ln.track()"
   ]
  },
  {
   "cell_type": "code",
   "execution_count": 4,
   "id": "b5bacde8",
   "metadata": {},
   "outputs": [
    {
     "name": "stderr",
     "output_type": "stream",
     "text": [
      "✅ Logged in with email lawrlee+lamin@gmail.com and id 325XQ1LU\n"
     ]
    }
   ],
   "source": [
    "ln.setup.login(\"lawrence-lamin\")"
   ]
  },
  {
   "cell_type": "code",
   "execution_count": 5,
   "id": "5ebd8afd-a337-4cd3-86a4-7dffb8894712",
   "metadata": {},
   "outputs": [
    {
     "name": "stderr",
     "output_type": "stream",
     "text": [
      "💬 Notebook imports: lamindb==0.43.0\n",
      "🔶 Automatic tracking of notebook failed: insert or update on table \"lnschema_core_transform\" violates foreign key constraint \"lnschema_core_transf_created_by_id_8afc7db3_fk_lnschema_\"\n",
      "DETAIL:  Key (created_by_id)=(325XQ1LU) is not present in table \"lnschema_core_user\".\n",
      "\n",
      "🔶 No automatic metadata detection, consider passing transform\n"
     ]
    }
   ],
   "source": [
    "ln.track()"
   ]
  }
 ],
 "metadata": {
  "kernelspec": {
   "display_name": "Python 3 (ipykernel)",
   "language": "python",
   "name": "python3"
  },
  "language_info": {
   "codemirror_mode": {
    "name": "ipython",
    "version": 3
   },
   "file_extension": ".py",
   "mimetype": "text/x-python",
   "name": "python",
   "nbconvert_exporter": "python",
   "pygments_lexer": "ipython3",
   "version": "3.10.11"
  },
  "nbproject": {
   "id": "p3MdDgPklTBe",
   "parent": null,
   "pypackage": null,
   "time_init": "2023-06-16T01:05:48.448020+00:00",
   "user_handle": null,
   "user_id": null,
   "user_name": null,
   "version": "0"
  }
 },
 "nbformat": 4,
 "nbformat_minor": 5
}
