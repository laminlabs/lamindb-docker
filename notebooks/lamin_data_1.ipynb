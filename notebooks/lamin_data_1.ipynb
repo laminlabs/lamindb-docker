{
 "cells": [
  {
   "cell_type": "markdown",
   "id": "a56d7a21",
   "metadata": {},
   "source": [
    "# Track files, objects & folders\n",
    "\n",
    "* Skipping the first `!lamin init --storage ./myobjects` call since I already init-ed an instance earlier"
   ]
  },
  {
   "cell_type": "code",
   "execution_count": 1,
   "id": "d3229fd4",
   "metadata": {},
   "outputs": [
    {
     "name": "stderr",
     "output_type": "stream",
     "text": [
      "🔶 You are running 3.11.4\n",
      "Only python versions 3.8~3.10 are currently tested, use at your own risk.\n",
      "🔶 You are running 3.11.4\n",
      "Only python versions 3.8~3.10 are currently tested, use at your own risk.\n",
      "✅ Loaded instance: lawrence-lamin/lamindb\n",
      "🔶 You are running 3.11.4\n",
      "Only python versions 3.7~3.10 are currently tested, use at your own risk.\n"
     ]
    }
   ],
   "source": [
    "import lamindb as ln"
   ]
  },
  {
   "cell_type": "markdown",
   "id": "2761188c",
   "metadata": {},
   "source": [
    "👆 I didn't login again or call `ln.setup.load()`, so I'm guessing the login/load-ing happens magically. Still probably better to document where/how the magic is happening."
   ]
  },
  {
   "cell_type": "code",
   "execution_count": 2,
   "id": "8a646dd7",
   "metadata": {},
   "outputs": [
    {
     "data": {
      "text/plain": [
       "S3Path('s3://lamin-lawrence/')"
      ]
     },
     "execution_count": 2,
     "metadata": {},
     "output_type": "execute_result"
    }
   ],
   "source": [
    "ln.setup.settings.storage.root"
   ]
  },
  {
   "cell_type": "code",
   "execution_count": 3,
   "id": "8626b0a9",
   "metadata": {},
   "outputs": [
    {
     "data": {
      "text/html": [
       "<div>\n",
       "<style scoped>\n",
       "    .dataframe tbody tr th:only-of-type {\n",
       "        vertical-align: middle;\n",
       "    }\n",
       "\n",
       "    .dataframe tbody tr th {\n",
       "        vertical-align: top;\n",
       "    }\n",
       "\n",
       "    .dataframe thead th {\n",
       "        text-align: right;\n",
       "    }\n",
       "</style>\n",
       "<table border=\"1\" class=\"dataframe\">\n",
       "  <thead>\n",
       "    <tr style=\"text-align: right;\">\n",
       "      <th></th>\n",
       "      <th>root</th>\n",
       "      <th>type</th>\n",
       "      <th>region</th>\n",
       "      <th>created_at</th>\n",
       "      <th>updated_at</th>\n",
       "      <th>created_by_id</th>\n",
       "    </tr>\n",
       "    <tr>\n",
       "      <th>id</th>\n",
       "      <th></th>\n",
       "      <th></th>\n",
       "      <th></th>\n",
       "      <th></th>\n",
       "      <th></th>\n",
       "      <th></th>\n",
       "    </tr>\n",
       "  </thead>\n",
       "  <tbody>\n",
       "    <tr>\n",
       "      <th>AAiBVwxY</th>\n",
       "      <td>s3://lamin-lawrence</td>\n",
       "      <td>s3</td>\n",
       "      <td>us-east-1</td>\n",
       "      <td>2023-06-14 21:29:26.939744</td>\n",
       "      <td>2023-06-14 21:29:26.939759</td>\n",
       "      <td>325XQ1LU</td>\n",
       "    </tr>\n",
       "  </tbody>\n",
       "</table>\n",
       "</div>"
      ],
      "text/plain": [
       "                         root type     region                 created_at  \\\n",
       "id                                                                         \n",
       "AAiBVwxY  s3://lamin-lawrence   s3  us-east-1 2023-06-14 21:29:26.939744   \n",
       "\n",
       "                         updated_at created_by_id  \n",
       "id                                                 \n",
       "AAiBVwxY 2023-06-14 21:29:26.939759      325XQ1LU  "
      ]
     },
     "execution_count": 3,
     "metadata": {},
     "output_type": "execute_result"
    }
   ],
   "source": [
    "ln.Storage.select().df()"
   ]
  },
  {
   "cell_type": "markdown",
   "id": "67f927ea",
   "metadata": {},
   "source": [
    "Curious what `ln.Storage.select()` returns, which is a Django manager"
   ]
  },
  {
   "cell_type": "code",
   "execution_count": 6,
   "id": "ae84121e",
   "metadata": {},
   "outputs": [
    {
     "data": {
      "text/plain": [
       "<QuerySet [Storage(id=AAiBVwxY, root=s3://lamin-lawrence, type=s3, region=us-east-1, created_at=2023-06-14 21:29:26.939744, updated_at=2023-06-14 21:29:26.939759, created_by_id=325XQ1LU)]>"
      ]
     },
     "execution_count": 6,
     "metadata": {},
     "output_type": "execute_result"
    }
   ],
   "source": [
    "storage = ln.Storage.select()\n",
    "storage.all()"
   ]
  },
  {
   "cell_type": "code",
   "execution_count": 8,
   "id": "a8c61f03",
   "metadata": {},
   "outputs": [
    {
     "data": {
      "text/html": [
       "<div>\n",
       "<style scoped>\n",
       "    .dataframe tbody tr th:only-of-type {\n",
       "        vertical-align: middle;\n",
       "    }\n",
       "\n",
       "    .dataframe tbody tr th {\n",
       "        vertical-align: top;\n",
       "    }\n",
       "\n",
       "    .dataframe thead th {\n",
       "        text-align: right;\n",
       "    }\n",
       "</style>\n",
       "<table border=\"1\" class=\"dataframe\">\n",
       "  <thead>\n",
       "    <tr style=\"text-align: right;\">\n",
       "      <th></th>\n",
       "      <th>handle</th>\n",
       "      <th>email</th>\n",
       "      <th>name</th>\n",
       "      <th>created_at</th>\n",
       "      <th>updated_at</th>\n",
       "    </tr>\n",
       "    <tr>\n",
       "      <th>id</th>\n",
       "      <th></th>\n",
       "      <th></th>\n",
       "      <th></th>\n",
       "      <th></th>\n",
       "      <th></th>\n",
       "    </tr>\n",
       "  </thead>\n",
       "  <tbody>\n",
       "    <tr>\n",
       "      <th>325XQ1LU</th>\n",
       "      <td>lawrence-lamin</td>\n",
       "      <td>lawrlee+lamin@gmail.com</td>\n",
       "      <td>Dr Lawrence Lee</td>\n",
       "      <td>2023-06-14 21:29:26.790859</td>\n",
       "      <td>2023-06-14 21:29:26.791089</td>\n",
       "    </tr>\n",
       "  </tbody>\n",
       "</table>\n",
       "</div>"
      ],
      "text/plain": [
       "                  handle                    email             name  \\\n",
       "id                                                                   \n",
       "325XQ1LU  lawrence-lamin  lawrlee+lamin@gmail.com  Dr Lawrence Lee   \n",
       "\n",
       "                         created_at                 updated_at  \n",
       "id                                                              \n",
       "325XQ1LU 2023-06-14 21:29:26.790859 2023-06-14 21:29:26.791089  "
      ]
     },
     "execution_count": 8,
     "metadata": {},
     "output_type": "execute_result"
    }
   ],
   "source": [
    "ln.User.select().df()"
   ]
  },
  {
   "cell_type": "code",
   "execution_count": 11,
   "id": "6e53d23b",
   "metadata": {},
   "outputs": [
    {
     "ename": "FileNotFoundError",
     "evalue": "[Errno 2] No such file or directory: 'mini.csv' -> 's3://lamin-lawrence/mini.csv'",
     "output_type": "error",
     "traceback": [
      "\u001b[0;31m---------------------------------------------------------------------------\u001b[0m",
      "\u001b[0;31mFileNotFoundError\u001b[0m                         Traceback (most recent call last)",
      "Cell \u001b[0;32mIn[11], line 2\u001b[0m\n\u001b[1;32m      1\u001b[0m filepath \u001b[38;5;241m=\u001b[39m ln\u001b[38;5;241m.\u001b[39mdev\u001b[38;5;241m.\u001b[39mdatasets\u001b[38;5;241m.\u001b[39mfile_mini_csv()\n\u001b[0;32m----> 2\u001b[0m filepath \u001b[38;5;241m=\u001b[39m \u001b[43mfilepath\u001b[49m\u001b[38;5;241;43m.\u001b[39;49m\u001b[43mrename\u001b[49m\u001b[43m(\u001b[49m\u001b[43mln\u001b[49m\u001b[38;5;241;43m.\u001b[39;49m\u001b[43msetup\u001b[49m\u001b[38;5;241;43m.\u001b[39;49m\u001b[43msettings\u001b[49m\u001b[38;5;241;43m.\u001b[39;49m\u001b[43mstorage\u001b[49m\u001b[38;5;241;43m.\u001b[39;49m\u001b[43mroot\u001b[49m\u001b[43m \u001b[49m\u001b[38;5;241;43m/\u001b[39;49m\u001b[43m \u001b[49m\u001b[43mfilepath\u001b[49m\u001b[38;5;241;43m.\u001b[39;49m\u001b[43mname\u001b[49m\u001b[43m)\u001b[49m\n",
      "File \u001b[0;32m/opt/conda/lib/python3.11/pathlib.py:1175\u001b[0m, in \u001b[0;36mPath.rename\u001b[0;34m(self, target)\u001b[0m\n\u001b[1;32m   1165\u001b[0m \u001b[38;5;28;01mdef\u001b[39;00m \u001b[38;5;21mrename\u001b[39m(\u001b[38;5;28mself\u001b[39m, target):\n\u001b[1;32m   1166\u001b[0m \u001b[38;5;250m    \u001b[39m\u001b[38;5;124;03m\"\"\"\u001b[39;00m\n\u001b[1;32m   1167\u001b[0m \u001b[38;5;124;03m    Rename this path to the target path.\u001b[39;00m\n\u001b[1;32m   1168\u001b[0m \n\u001b[0;32m   (...)\u001b[0m\n\u001b[1;32m   1173\u001b[0m \u001b[38;5;124;03m    Returns the new Path instance pointing to the target path.\u001b[39;00m\n\u001b[1;32m   1174\u001b[0m \u001b[38;5;124;03m    \"\"\"\u001b[39;00m\n\u001b[0;32m-> 1175\u001b[0m     \u001b[43mos\u001b[49m\u001b[38;5;241;43m.\u001b[39;49m\u001b[43mrename\u001b[49m\u001b[43m(\u001b[49m\u001b[38;5;28;43mself\u001b[39;49m\u001b[43m,\u001b[49m\u001b[43m \u001b[49m\u001b[43mtarget\u001b[49m\u001b[43m)\u001b[49m\n\u001b[1;32m   1176\u001b[0m     \u001b[38;5;28;01mreturn\u001b[39;00m \u001b[38;5;28mself\u001b[39m\u001b[38;5;241m.\u001b[39m\u001b[38;5;18m__class__\u001b[39m(target)\n",
      "\u001b[0;31mFileNotFoundError\u001b[0m: [Errno 2] No such file or directory: 'mini.csv' -> 's3://lamin-lawrence/mini.csv'"
     ]
    }
   ],
   "source": [
    "filepath = ln.dev.datasets.file_mini_csv()\n",
    "filepath = filepath.rename(ln.setup.settings.storage.root / filepath.name)"
   ]
  },
  {
   "cell_type": "markdown",
   "id": "123eb1b1",
   "metadata": {},
   "source": [
    "I see `mini.csv` created in the current working directory, but am getting this error"
   ]
  }
 ],
 "metadata": {
  "kernelspec": {
   "display_name": "Python 3 (ipykernel)",
   "language": "python",
   "name": "python3"
  },
  "language_info": {
   "codemirror_mode": {
    "name": "ipython",
    "version": 3
   },
   "file_extension": ".py",
   "mimetype": "text/x-python",
   "name": "python",
   "nbconvert_exporter": "python",
   "pygments_lexer": "ipython3",
   "version": "3.11.4"
  }
 },
 "nbformat": 4,
 "nbformat_minor": 5
}
